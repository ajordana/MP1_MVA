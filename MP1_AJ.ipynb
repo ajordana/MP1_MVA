{
 "cells": [
  {
   "cell_type": "markdown",
   "metadata": {},
   "source": [
    "# MP1 -- Armand Jordana"
   ]
  },
  {
   "cell_type": "code",
   "execution_count": 1,
   "metadata": {},
   "outputs": [
    {
     "name": "stderr",
     "output_type": "stream",
     "text": [
      "Using TensorFlow backend.\n"
     ]
    }
   ],
   "source": [
    "from mp1 import generate_a_disk, generate_a_rectangle\n",
    "from mp1 import generate_dataset_classification, generate_test_set_classification\n",
    "from mp1 import generate_dataset_regression, generate_test_set_regression, visualize_prediction\n",
    "from mp1 import visualize_prediction6\n",
    "from mp1 import generate_two_triangles, generate_two_disks, generate_two_rectangles, generate_dataset_denoising\n",
    "import matplotlib.pyplot as plt"
   ]
  },
  {
   "cell_type": "markdown",
   "metadata": {},
   "source": [
    "### Task 1 : Simple Classification\n",
    "\n",
    "We start by generating a set  of  images  of  simple  geometric  shapes  (rectangle,  disk,  triangle)\n",
    "centered in the images :"
   ]
  },
  {
   "cell_type": "code",
   "execution_count": 2,
   "metadata": {
    "collapsed": true
   },
   "outputs": [
    {
     "name": "stdout",
     "output_type": "stream",
     "text": [
      "Creating data:\n",
      "0\n"
     ]
    }
   ],
   "source": [
    "[X_train, Y_train] = generate_dataset_classification(300, 20)"
   ]
  },
  {
   "cell_type": "markdown",
   "metadata": {},
   "source": [
    "Here, we build a linear classifier to classify an image into one of the three possible categories. The gradient descent can be done with Adam or SGD : "
   ]
  },
  {
   "cell_type": "code",
   "execution_count": 3,
   "metadata": {},
   "outputs": [],
   "source": [
    "from keras.models import Sequential\n",
    "from keras.layers import Dense, Activation\n",
    "from keras.optimizers import SGD, Adam\n",
    "from keras.utils import to_categorical\n",
    "model = Sequential()"
   ]
  },
  {
   "cell_type": "code",
   "execution_count": 4,
   "metadata": {
    "scrolled": true
   },
   "outputs": [
    {
     "name": "stdout",
     "output_type": "stream",
     "text": [
      "Epoch 1/20\n",
      "300/300 [==============================] - 2s 5ms/step - loss: 1.8188 - acc: 0.3400\n",
      "Epoch 2/20\n",
      "300/300 [==============================] - 0s 243us/step - loss: 0.6968 - acc: 0.7200\n",
      "Epoch 3/20\n",
      "300/300 [==============================] - 0s 204us/step - loss: 0.5175 - acc: 0.8133\n",
      "Epoch 4/20\n",
      "300/300 [==============================] - 0s 210us/step - loss: 0.4023 - acc: 0.8833\n",
      "Epoch 5/20\n",
      "300/300 [==============================] - 0s 243us/step - loss: 0.3748 - acc: 0.8333\n",
      "Epoch 6/20\n",
      "300/300 [==============================] - 0s 268us/step - loss: 0.2808 - acc: 0.9367\n",
      "Epoch 7/20\n",
      "300/300 [==============================] - 0s 248us/step - loss: 0.2660 - acc: 0.9367\n",
      "Epoch 8/20\n",
      "300/300 [==============================] - 0s 225us/step - loss: 0.2130 - acc: 0.9600\n",
      "Epoch 9/20\n",
      "300/300 [==============================] - 0s 244us/step - loss: 0.1842 - acc: 0.9800\n",
      "Epoch 10/20\n",
      "300/300 [==============================] - 0s 211us/step - loss: 0.1744 - acc: 0.9633\n",
      "Epoch 11/20\n",
      "300/300 [==============================] - 0s 237us/step - loss: 0.1746 - acc: 0.9533\n",
      "Epoch 12/20\n",
      "300/300 [==============================] - 0s 210us/step - loss: 0.1395 - acc: 0.9900\n",
      "Epoch 13/20\n",
      "300/300 [==============================] - 0s 257us/step - loss: 0.1491 - acc: 0.9667\n",
      "Epoch 14/20\n",
      "300/300 [==============================] - 0s 248us/step - loss: 0.1210 - acc: 0.9900\n",
      "Epoch 15/20\n",
      "300/300 [==============================] - 0s 222us/step - loss: 0.1361 - acc: 0.9700\n",
      "Epoch 16/20\n",
      "300/300 [==============================] - 0s 205us/step - loss: 0.1380 - acc: 0.9567\n",
      "Epoch 17/20\n",
      "300/300 [==============================] - 0s 225us/step - loss: 0.1108 - acc: 0.9800\n",
      "Epoch 18/20\n",
      "300/300 [==============================] - 0s 261us/step - loss: 0.0828 - acc: 0.9933\n",
      "Epoch 19/20\n",
      "300/300 [==============================] - 0s 247us/step - loss: 0.0789 - acc: 0.9967\n",
      "Epoch 20/20\n",
      "300/300 [==============================] - 0s 249us/step - loss: 0.0718 - acc: 0.9967\n"
     ]
    },
    {
     "data": {
      "text/plain": [
       "<keras.callbacks.History at 0x7f13b2b78400>"
      ]
     },
     "execution_count": 4,
     "metadata": {},
     "output_type": "execute_result"
    }
   ],
   "source": [
    "nb_neurons = 3\n",
    "model.add(Dense(nb_neurons, input_shape=(5184,)))\n",
    "model.add(Activation('softmax'))\n",
    "sgd = SGD(lr=0.01, decay=1e-6, momentum=0.9, nesterov=True)\n",
    "adam = Adam(lr=0.001, beta_1=0.9, beta_2=0.999, epsilon=None, decay=0.0, amsgrad=False)\n",
    "model.compile(loss='categorical_crossentropy', optimizer=adam, metrics=['accuracy'])\n",
    "Y_train = to_categorical(Y_train, num_classes=3, dtype='float32')\n",
    "model.fit(X_train, Y_train, epochs=20, batch_size=32)"
   ]
  },
  {
   "cell_type": "markdown",
   "metadata": {},
   "source": [
    "We have a very good loss and accuracy on the train set. And we can make good predictions on the test : here is an example of the prediction of a rectangle : "
   ]
  },
  {
   "cell_type": "code",
   "execution_count": 5,
   "metadata": {},
   "outputs": [
    {
     "data": {
      "text/plain": [
       "array([[1., 0., 0.]], dtype=float32)"
      ]
     },
     "execution_count": 5,
     "metadata": {},
     "output_type": "execute_result"
    }
   ],
   "source": [
    "X_test = generate_a_rectangle()\n",
    "X_test = X_test.reshape(1, X_test.shape[0])\n",
    "model.predict(X_test)"
   ]
  },
  {
   "cell_type": "markdown",
   "metadata": {},
   "source": [
    "### Task 2 : Visualization of the Solution"
   ]
  },
  {
   "cell_type": "markdown",
   "metadata": {},
   "source": [
    "This cell aims to visualize the weights of the linear classifier. We can reconize on each figure the shape that we try to predict."
   ]
  },
  {
   "cell_type": "code",
   "execution_count": 6,
   "metadata": {},
   "outputs": [
    {
     "data": {
      "text/plain": [
       "Text(0.5, 1.0, 'Triangle')"
      ]
     },
     "execution_count": 6,
     "metadata": {},
     "output_type": "execute_result"
    },
    {
     "data": {
      "image/png": "[encoded data removed]",
      "text/plain": [
       "<Figure size 432x288 with 3 Axes>"
      ]
     },
     "metadata": {
      "needs_background": "light"
     },
     "output_type": "display_data"
    }
   ],
   "source": [
    "IMAGE_SIZE = 72\n",
    "im1 = model.get_weights()[0][:,0]\n",
    "im2 = model.get_weights()[0][:,1]\n",
    "im3 = model.get_weights()[0][:,2]\n",
    "\n",
    "f, (ax1, ax2, ax3) = plt.subplots(1, 3, sharey=True)\n",
    "ax1.imshow(im1.reshape(IMAGE_SIZE,IMAGE_SIZE), cmap='gray')\n",
    "ax1.set_title('Rectangle')\n",
    "ax2.imshow(im2.reshape(IMAGE_SIZE,IMAGE_SIZE), cmap='gray')\n",
    "ax2.set_title('Disk')\n",
    "ax3.imshow(im3.reshape(IMAGE_SIZE,IMAGE_SIZE), cmap='gray')\n",
    "ax3.set_title('Triangle')\n"
   ]
  },
  {
   "cell_type": "markdown",
   "metadata": {},
   "source": [
    "###  Task 3 : A More Difficult Classification Problem"
   ]
  },
  {
   "cell_type": "code",
   "execution_count": 7,
   "metadata": {},
   "outputs": [
    {
     "name": "stdout",
     "output_type": "stream",
     "text": [
      "Creating data:\n",
      "0\n",
      "500\n",
      "1000\n",
      "1500\n",
      "2000\n",
      "2500\n",
      "3000\n",
      "3500\n",
      "Creating data:\n",
      "0\n"
     ]
    }
   ],
   "source": [
    "n_train = 4000\n",
    "[X_train, Y_train] = generate_dataset_classification(n_train, 20, True)\n",
    "[X_test, Y_test] = generate_test_set_classification()\n",
    "Y_train = to_categorical(Y_train, num_classes=3, dtype='float32')\n"
   ]
  },
  {
   "cell_type": "markdown",
   "metadata": {},
   "source": [
    "We use the same model but with shapes that are allowed to move within the images and change dimension."
   ]
  },
  {
   "cell_type": "code",
   "execution_count": 8,
   "metadata": {
    "scrolled": true
   },
   "outputs": [
    {
     "name": "stdout",
     "output_type": "stream",
     "text": [
      "Epoch 1/40\n",
      "4000/4000 [==============================] - 11s 3ms/step - loss: 1.1095 - acc: 0.5012\n",
      "Epoch 2/40\n",
      "4000/4000 [==============================] - 1s 138us/step - loss: 0.9942 - acc: 0.5563\n",
      "Epoch 3/40\n",
      "4000/4000 [==============================] - 1s 140us/step - loss: 1.0087 - acc: 0.5670\n",
      "Epoch 4/40\n",
      "4000/4000 [==============================] - 1s 125us/step - loss: 0.8792 - acc: 0.6042\n",
      "Epoch 5/40\n",
      "4000/4000 [==============================] - 1s 133us/step - loss: 0.8465 - acc: 0.6040\n",
      "Epoch 6/40\n",
      "4000/4000 [==============================] - 1s 135us/step - loss: 0.8815 - acc: 0.5990\n",
      "Epoch 7/40\n",
      "4000/4000 [==============================] - 1s 148us/step - loss: 0.8772 - acc: 0.6048\n",
      "Epoch 8/40\n",
      "4000/4000 [==============================] - 1s 137us/step - loss: 0.8526 - acc: 0.6100\n",
      "Epoch 9/40\n",
      "4000/4000 [==============================] - 1s 145us/step - loss: 0.8671 - acc: 0.6105\n",
      "Epoch 10/40\n",
      "4000/4000 [==============================] - 1s 139us/step - loss: 0.8281 - acc: 0.6142\n",
      "Epoch 11/40\n",
      "4000/4000 [==============================] - 1s 139us/step - loss: 0.8142 - acc: 0.6222\n",
      "Epoch 12/40\n",
      "4000/4000 [==============================] - 1s 142us/step - loss: 0.8174 - acc: 0.6282\n",
      "Epoch 13/40\n",
      "4000/4000 [==============================] - 1s 135us/step - loss: 0.8122 - acc: 0.6385\n",
      "Epoch 14/40\n",
      "4000/4000 [==============================] - 1s 149us/step - loss: 0.7908 - acc: 0.6385\n",
      "Epoch 15/40\n",
      "4000/4000 [==============================] - 1s 143us/step - loss: 0.8269 - acc: 0.6322\n",
      "Epoch 16/40\n",
      "4000/4000 [==============================] - 1s 139us/step - loss: 0.8352 - acc: 0.6210\n",
      "Epoch 17/40\n",
      "4000/4000 [==============================] - 1s 143us/step - loss: 0.8076 - acc: 0.6325\n",
      "Epoch 18/40\n",
      "4000/4000 [==============================] - 1s 151us/step - loss: 0.7948 - acc: 0.6342\n",
      "Epoch 19/40\n",
      "4000/4000 [==============================] - 1s 140us/step - loss: 0.8036 - acc: 0.6350\n",
      "Epoch 20/40\n",
      "4000/4000 [==============================] - 1s 128us/step - loss: 0.7785 - acc: 0.6452\n",
      "Epoch 21/40\n",
      "4000/4000 [==============================] - 1s 130us/step - loss: 0.7487 - acc: 0.6485\n",
      "Epoch 22/40\n",
      "4000/4000 [==============================] - 1s 136us/step - loss: 0.7972 - acc: 0.6415\n",
      "Epoch 23/40\n",
      "4000/4000 [==============================] - 1s 143us/step - loss: 0.7879 - acc: 0.6392\n",
      "Epoch 24/40\n",
      "4000/4000 [==============================] - 1s 147us/step - loss: 0.7679 - acc: 0.6485\n",
      "Epoch 25/40\n",
      "4000/4000 [==============================] - 1s 162us/step - loss: 0.7495 - acc: 0.6530\n",
      "Epoch 26/40\n",
      "4000/4000 [==============================] - 1s 157us/step - loss: 0.7915 - acc: 0.6428\n",
      "Epoch 27/40\n",
      "4000/4000 [==============================] - 1s 144us/step - loss: 0.7846 - acc: 0.6365\n",
      "Epoch 28/40\n",
      "4000/4000 [==============================] - 1s 141us/step - loss: 0.7733 - acc: 0.6573\n",
      "Epoch 29/40\n",
      "4000/4000 [==============================] - 1s 135us/step - loss: 0.7569 - acc: 0.6552\n",
      "Epoch 30/40\n",
      "4000/4000 [==============================] - 1s 148us/step - loss: 0.7293 - acc: 0.6635\n",
      "Epoch 31/40\n",
      "4000/4000 [==============================] - 1s 152us/step - loss: 0.7388 - acc: 0.6482\n",
      "Epoch 32/40\n",
      "4000/4000 [==============================] - 1s 140us/step - loss: 0.7653 - acc: 0.6470\n",
      "Epoch 33/40\n",
      "4000/4000 [==============================] - 1s 143us/step - loss: 0.7546 - acc: 0.6545\n",
      "Epoch 34/40\n",
      "4000/4000 [==============================] - 1s 144us/step - loss: 0.7119 - acc: 0.6760\n",
      "Epoch 35/40\n",
      "4000/4000 [==============================] - 0s 124us/step - loss: 0.7301 - acc: 0.6707\n",
      "Epoch 36/40\n",
      "4000/4000 [==============================] - 1s 139us/step - loss: 0.7553 - acc: 0.6552\n",
      "Epoch 37/40\n",
      "4000/4000 [==============================] - 1s 140us/step - loss: 0.7281 - acc: 0.6623\n",
      "Epoch 38/40\n",
      "4000/4000 [==============================] - 1s 135us/step - loss: 0.7510 - acc: 0.6595\n",
      "Epoch 39/40\n",
      "4000/4000 [==============================] - 1s 138us/step - loss: 0.7420 - acc: 0.6617\n",
      "Epoch 40/40\n",
      "4000/4000 [==============================] - 1s 144us/step - loss: 0.7115 - acc: 0.6727\n"
     ]
    },
    {
     "data": {
      "text/plain": [
       "<keras.callbacks.History at 0x7f13b2b78630>"
      ]
     },
     "execution_count": 8,
     "metadata": {},
     "output_type": "execute_result"
    }
   ],
   "source": [
    "from keras.models import Sequential\n",
    "from keras.layers import Dense, Activation\n",
    "from keras.optimizers import SGD, Adam\n",
    "from keras.utils import to_categorical\n",
    "model = Sequential()\n",
    "nb_neurons = 3\n",
    "model.add(Dense(nb_neurons, input_shape=(5184,)))\n",
    "model.add(Activation('softmax'))\n",
    "sgd = SGD(lr=0.001, decay=1e-6, momentum=0.9, nesterov=True)\n",
    "model.compile(loss='categorical_crossentropy', optimizer=sgd, metrics=['accuracy'])\n",
    "model.fit(X_train, Y_train, epochs=40, batch_size=32)"
   ]
  },
  {
   "cell_type": "code",
   "execution_count": 9,
   "metadata": {},
   "outputs": [
    {
     "name": "stdout",
     "output_type": "stream",
     "text": [
      "300/300 [==============================] - 0s 406us/step\n"
     ]
    },
    {
     "data": {
      "text/plain": [
       "[1.0231185062726338, 0.6066666666666667]"
      ]
     },
     "execution_count": 9,
     "metadata": {},
     "output_type": "execute_result"
    }
   ],
   "source": [
    "model.evaluate(X_test, Y_test)"
   ]
  },
  {
   "cell_type": "markdown",
   "metadata": {},
   "source": [
    "We only get an accuracy of 66% on the train after 40epochs and with a training on 4000 images. However, if we use a simple CNN with only one layer of convolution, we can get very good results."
   ]
  },
  {
   "cell_type": "code",
   "execution_count": 10,
   "metadata": {},
   "outputs": [],
   "source": [
    "X_train = X_train.reshape(n_train,72,72,1)\n",
    "X_test = X_test.reshape(300,72,72,1)"
   ]
  },
  {
   "cell_type": "code",
   "execution_count": 11,
   "metadata": {
    "scrolled": true
   },
   "outputs": [
    {
     "name": "stdout",
     "output_type": "stream",
     "text": [
      "Epoch 1/40\n",
      "4000/4000 [==============================] - 8s 2ms/step - loss: 0.9654 - acc: 0.4903\n",
      "Epoch 2/40\n",
      "4000/4000 [==============================] - 5s 1ms/step - loss: 0.8188 - acc: 0.5900\n",
      "Epoch 3/40\n",
      "4000/4000 [==============================] - 5s 1ms/step - loss: 0.7585 - acc: 0.6435\n",
      "Epoch 4/40\n",
      "4000/4000 [==============================] - 5s 1ms/step - loss: 0.7137 - acc: 0.6838\n",
      "Epoch 5/40\n",
      "4000/4000 [==============================] - 5s 1ms/step - loss: 0.6718 - acc: 0.7210\n",
      "Epoch 6/40\n",
      "4000/4000 [==============================] - 6s 1ms/step - loss: 0.6346 - acc: 0.7433\n",
      "Epoch 7/40\n",
      "4000/4000 [==============================] - 5s 1ms/step - loss: 0.5874 - acc: 0.7843\n",
      "Epoch 8/40\n",
      "4000/4000 [==============================] - 5s 1ms/step - loss: 0.5417 - acc: 0.8067\n",
      "Epoch 9/40\n",
      "4000/4000 [==============================] - 5s 1ms/step - loss: 0.5069 - acc: 0.8282\n",
      "Epoch 10/40\n",
      "4000/4000 [==============================] - 5s 1ms/step - loss: 0.4752 - acc: 0.8400\n",
      "Epoch 11/40\n",
      "4000/4000 [==============================] - 5s 1ms/step - loss: 0.4373 - acc: 0.8618\n",
      "Epoch 12/40\n",
      "4000/4000 [==============================] - 5s 1ms/step - loss: 0.4148 - acc: 0.8685\n",
      "Epoch 13/40\n",
      "4000/4000 [==============================] - 5s 1ms/step - loss: 0.3658 - acc: 0.8898\n",
      "Epoch 14/40\n",
      "4000/4000 [==============================] - 5s 1ms/step - loss: 0.3794 - acc: 0.8890\n",
      "Epoch 15/40\n",
      "4000/4000 [==============================] - 5s 1ms/step - loss: 0.3322 - acc: 0.9015\n",
      "Epoch 16/40\n",
      "4000/4000 [==============================] - 5s 1ms/step - loss: 0.3086 - acc: 0.9133\n",
      "Epoch 17/40\n",
      "4000/4000 [==============================] - 5s 1ms/step - loss: 0.2677 - acc: 0.9223\n",
      "Epoch 18/40\n",
      "4000/4000 [==============================] - 5s 1ms/step - loss: 0.2712 - acc: 0.9213\n",
      "Epoch 19/40\n",
      "4000/4000 [==============================] - 5s 1ms/step - loss: 0.2366 - acc: 0.9357\n",
      "Epoch 20/40\n",
      "4000/4000 [==============================] - 6s 2ms/step - loss: 0.2304 - acc: 0.9382\n",
      "Epoch 21/40\n",
      "4000/4000 [==============================] - 5s 1ms/step - loss: 0.2188 - acc: 0.9410\n",
      "Epoch 22/40\n",
      "4000/4000 [==============================] - 5s 1ms/step - loss: 0.2332 - acc: 0.9335\n",
      "Epoch 23/40\n",
      "4000/4000 [==============================] - 5s 1ms/step - loss: 0.1877 - acc: 0.9502\n",
      "Epoch 24/40\n",
      "4000/4000 [==============================] - 5s 1ms/step - loss: 0.1795 - acc: 0.9530\n",
      "Epoch 25/40\n",
      "4000/4000 [==============================] - 5s 1ms/step - loss: 0.1749 - acc: 0.9530\n",
      "Epoch 26/40\n",
      "4000/4000 [==============================] - 5s 1ms/step - loss: 0.1653 - acc: 0.9573\n",
      "Epoch 27/40\n",
      "4000/4000 [==============================] - 5s 1ms/step - loss: 0.1547 - acc: 0.9575\n",
      "Epoch 28/40\n",
      "4000/4000 [==============================] - 6s 1ms/step - loss: 0.1480 - acc: 0.9620\n",
      "Epoch 29/40\n",
      "4000/4000 [==============================] - 5s 1ms/step - loss: 0.1546 - acc: 0.9580\n",
      "Epoch 30/40\n",
      "4000/4000 [==============================] - 5s 1ms/step - loss: 0.1416 - acc: 0.9613\n",
      "Epoch 31/40\n",
      "4000/4000 [==============================] - 5s 1ms/step - loss: 0.1312 - acc: 0.9650\n",
      "Epoch 32/40\n",
      "4000/4000 [==============================] - 5s 1ms/step - loss: 0.1300 - acc: 0.9643\n",
      "Epoch 33/40\n",
      "4000/4000 [==============================] - 5s 1ms/step - loss: 0.1311 - acc: 0.9650\n",
      "Epoch 34/40\n",
      "4000/4000 [==============================] - 5s 1ms/step - loss: 0.1222 - acc: 0.9657\n",
      "Epoch 35/40\n",
      "4000/4000 [==============================] - 5s 1ms/step - loss: 0.1171 - acc: 0.9708\n",
      "Epoch 36/40\n",
      "4000/4000 [==============================] - 5s 1ms/step - loss: 0.1144 - acc: 0.9690\n",
      "Epoch 37/40\n",
      "4000/4000 [==============================] - 5s 1ms/step - loss: 0.1142 - acc: 0.9708\n",
      "Epoch 38/40\n",
      "4000/4000 [==============================] - 6s 1ms/step - loss: 0.1103 - acc: 0.9690\n",
      "Epoch 39/40\n",
      "4000/4000 [==============================] - 6s 1ms/step - loss: 0.1269 - acc: 0.9650\n",
      "Epoch 40/40\n",
      "4000/4000 [==============================] - 5s 1ms/step - loss: 0.1024 - acc: 0.9728\n"
     ]
    },
    {
     "data": {
      "text/plain": [
       "<keras.callbacks.History at 0x7f1378fbe828>"
      ]
     },
     "execution_count": 11,
     "metadata": {},
     "output_type": "execute_result"
    }
   ],
   "source": [
    "from keras.models import Sequential\n",
    "from keras.layers import Dense, Activation, Conv2D, Flatten, pooling\n",
    "from keras.layers.pooling import MaxPooling2D\n",
    "from keras.optimizers import SGD\n",
    "from keras.utils import to_categorical\n",
    "model = Sequential()\n",
    "nb_neurons = 16\n",
    "model.add(Conv2D(nb_neurons, kernel_size=5, activation='relu', input_shape=(72,72,1)))\n",
    "model.add(MaxPooling2D(pool_size=(2,2)))\n",
    "model.add(Flatten())\n",
    "model.add(Dense(3, activation='softmax'))\n",
    "sgd = SGD(lr=0.001, decay=1e-6, momentum=0.9, nesterov=True)\n",
    "model.compile(loss='categorical_crossentropy', optimizer=sgd, metrics=['accuracy'])\n",
    "\n",
    "model.fit(X_train, Y_train, epochs=40, batch_size=32)"
   ]
  },
  {
   "cell_type": "code",
   "execution_count": 12,
   "metadata": {
    "scrolled": true
   },
   "outputs": [
    {
     "name": "stdout",
     "output_type": "stream",
     "text": [
      "300/300 [==============================] - 0s 942us/step\n"
     ]
    },
    {
     "data": {
      "text/plain": [
       "[0.19280865629514057, 0.9466666674613953]"
      ]
     },
     "execution_count": 12,
     "metadata": {},
     "output_type": "execute_result"
    }
   ],
   "source": [
    "model.evaluate(X_test, Y_test)"
   ]
  },
  {
   "cell_type": "markdown",
   "metadata": {},
   "source": [
    "We now get an accuracy of 94% on the test which is far better than for the simple model without convolutions."
   ]
  },
  {
   "cell_type": "markdown",
   "metadata": {},
   "source": [
    "### Task 4 : A Regression Problem\n",
    "\n",
    "The task now is to predict the image locations of the vertices of a triangle."
   ]
  },
  {
   "cell_type": "code",
   "execution_count": 13,
   "metadata": {},
   "outputs": [
    {
     "name": "stdout",
     "output_type": "stream",
     "text": [
      "Creating data:\n",
      "0\n",
      "500\n",
      "1000\n",
      "1500\n",
      "Creating data:\n",
      "0\n"
     ]
    }
   ],
   "source": [
    "n_train = 2000\n",
    "[X_train, Y_train0] = generate_dataset_regression(n_train, 20)\n",
    "[X_test, Y_test0] = generate_test_set_regression()"
   ]
  },
  {
   "cell_type": "markdown",
   "metadata": {},
   "source": [
    "Here, the three vertices of a triangle are given by a vector of length $2 \\times 3$. In this task, we face the problem that two similar triangles can have two very different vectors if the vertices are not given in the same order. In order to simplify this regression problem, we need to ordonate each list of vertices. To do so, we re-ordonate the vector of vertices by putting in first position, the closest vertex of $(0,0)$ and in second position, the closest vertex of $(1,0)$."
   ]
  },
  {
   "cell_type": "code",
   "execution_count": 14,
   "metadata": {},
   "outputs": [],
   "source": [
    "import numpy as np\n",
    "def ordonate(Y):\n",
    "    Y_temp = np.zeros((len(Y), 6))\n",
    "    x_right = np.array([1,0])\n",
    "    for i in range(len(Y)):\n",
    "        a = np.argmin([np.linalg.norm(Y[i][:2]), np.linalg.norm(Y[i][2:4]), np.linalg.norm(Y[i][4:])])\n",
    "        Y_temp[i][0], Y_temp[i][1] = Y[i][2*a], Y[i][2*a+1]\n",
    "        # b = np.argmax([np.linalg.norm(Y[i][k:k+2])/np.linalg.norm(Y[i][a:a+2])  for k in range(3) if k != a])\n",
    "        L = [np.linalg.norm(Y[i][2*k:2*k+2] - x_right) for k in range(3)]\n",
    "        L[a] = 10\n",
    "        b = np.argmin(L)\n",
    "        Y_temp[i][2], Y_temp[i][3] = Y[i][2*b], Y[i][2*b+1]\n",
    "        for l in range(3):\n",
    "            if  l != a and l != b:\n",
    "                Y_temp[i][4], Y_temp[i][5] = Y[i][2*l], Y[i][2*l+1]\n",
    "    return Y_temp\n",
    "Y_train = ordonate(Y_train0)\n",
    "Y_test = ordonate(Y_test0)"
   ]
  },
  {
   "cell_type": "markdown",
   "metadata": {},
   "source": [
    "For this regression problem, I use network with 4 layers of convolution and 6 fully connected layers."
   ]
  },
  {
   "cell_type": "code",
   "execution_count": 15,
   "metadata": {
    "scrolled": true
   },
   "outputs": [
    {
     "name": "stdout",
     "output_type": "stream",
     "text": [
      "Epoch 1/20\n",
      "2000/2000 [==============================] - 13s 7ms/step - loss: 0.0824\n",
      "Epoch 2/20\n",
      "2000/2000 [==============================] - 10s 5ms/step - loss: 0.0294\n",
      "Epoch 3/20\n",
      "2000/2000 [==============================] - 10s 5ms/step - loss: 0.0181\n",
      "Epoch 4/20\n",
      "2000/2000 [==============================] - 10s 5ms/step - loss: 0.0147\n",
      "Epoch 5/20\n",
      "2000/2000 [==============================] - 10s 5ms/step - loss: 0.0123\n",
      "Epoch 6/20\n",
      "2000/2000 [==============================] - 10s 5ms/step - loss: 0.0105\n",
      "Epoch 7/20\n",
      "2000/2000 [==============================] - 10s 5ms/step - loss: 0.0091\n",
      "Epoch 8/20\n",
      "2000/2000 [==============================] - 10s 5ms/step - loss: 0.0073\n",
      "Epoch 9/20\n",
      "2000/2000 [==============================] - 10s 5ms/step - loss: 0.0060\n",
      "Epoch 10/20\n",
      "2000/2000 [==============================] - 10s 5ms/step - loss: 0.0051\n",
      "Epoch 11/20\n",
      "2000/2000 [==============================] - 10s 5ms/step - loss: 0.0041\n",
      "Epoch 12/20\n",
      "2000/2000 [==============================] - 10s 5ms/step - loss: 0.0034\n",
      "Epoch 13/20\n",
      "2000/2000 [==============================] - 10s 5ms/step - loss: 0.0030\n",
      "Epoch 14/20\n",
      "2000/2000 [==============================] - 10s 5ms/step - loss: 0.0023\n",
      "Epoch 15/20\n",
      "2000/2000 [==============================] - 11s 6ms/step - loss: 0.0021\n",
      "Epoch 16/20\n",
      "2000/2000 [==============================] - 10s 5ms/step - loss: 0.0018\n",
      "Epoch 17/20\n",
      "2000/2000 [==============================] - 10s 5ms/step - loss: 0.0013\n",
      "Epoch 18/20\n",
      "2000/2000 [==============================] - 10s 5ms/step - loss: 0.0011\n",
      "Epoch 19/20\n",
      "2000/2000 [==============================] - 10s 5ms/step - loss: 0.0011\n",
      "Epoch 20/20\n",
      "2000/2000 [==============================] - 11s 5ms/step - loss: 0.0011\n"
     ]
    },
    {
     "data": {
      "text/plain": [
       "<keras.callbacks.History at 0x7f135df1cb00>"
      ]
     },
     "execution_count": 15,
     "metadata": {},
     "output_type": "execute_result"
    }
   ],
   "source": [
    "from keras.models import Sequential\n",
    "from keras.layers import Dense, Activation, Conv2D, Flatten, pooling\n",
    "from keras.layers.pooling import MaxPooling2D\n",
    "from keras.optimizers import SGD, Adam\n",
    "from keras.utils import to_categorical\n",
    "from tensorflow.keras.utils import normalize\n",
    "model = Sequential()\n",
    "\n",
    "\n",
    "X_train = X_train.reshape(n_train,72,72,1)\n",
    "X_test = X_test.reshape(300,72,72,1)\n",
    "model.add(Conv2D(16, kernel_size=5, activation='relu', input_shape=(72,72,1), strides=2))\n",
    "model.add(Conv2D(64, kernel_size=3, activation='relu', strides=2))\n",
    "model.add(Conv2D(256, kernel_size=3, activation='relu', strides=2))\n",
    "model.add(Conv2D(256, kernel_size=3, activation='relu', strides=2))\n",
    "model.add(Flatten())\n",
    "model.add(Dense(1000))\n",
    "model.add(Activation('relu'))\n",
    "model.add(Dense(1000))\n",
    "model.add(Activation('relu'))\n",
    "model.add(Dense(500))\n",
    "model.add(Activation('relu'))\n",
    "model.add(Dense(500))\n",
    "model.add(Activation('relu'))\n",
    "model.add(Dense(250))\n",
    "model.add(Activation('relu'))\n",
    "model.add(Dense(6))\n",
    "#sgd = SGD(lr=0.001, decay=1e-6, momentum=0.9, nesterov=True)\n",
    "adam = Adam(lr=0.0005, beta_1=0.9, beta_2=0.999, epsilon=None, decay=0.0, amsgrad=False)\n",
    "model.compile(loss='mean_squared_error', optimizer=adam)\n",
    "model.fit(X_train, Y_train, epochs=20, batch_size=32)"
   ]
  },
  {
   "cell_type": "code",
   "execution_count": 16,
   "metadata": {
    "scrolled": true
   },
   "outputs": [
    {
     "name": "stdout",
     "output_type": "stream",
     "text": [
      "300/300 [==============================] - 1s 2ms/step\n"
     ]
    },
    {
     "data": {
      "text/plain": [
       "0.007281907722353935"
      ]
     },
     "execution_count": 16,
     "metadata": {},
     "output_type": "execute_result"
    }
   ],
   "source": [
    "model.evaluate(X_test, Y_test)"
   ]
  },
  {
   "cell_type": "markdown",
   "metadata": {},
   "source": [
    "After, the training, we have a very reasonable loss on the test and we are able to predict in a very nice way the position of each vertices :"
   ]
  },
  {
   "cell_type": "code",
   "execution_count": 17,
   "metadata": {},
   "outputs": [
    {
     "data": {
      "image/png": "[encoded data removed]",
      "text/plain": [
       "<Figure size 432x288 with 6 Axes>"
      ]
     },
     "metadata": {
      "needs_background": "light"
     },
     "output_type": "display_data"
    }
   ],
   "source": [
    "visualize_prediction6(X_test[:6], model.predict(X_test)[:6])\n"
   ]
  },
  {
   "cell_type": "markdown",
   "metadata": {},
   "source": [
    "### Image Denoising : "
   ]
  },
  {
   "cell_type": "code",
   "execution_count": 2,
   "metadata": {
    "collapsed": true
   },
   "outputs": [
    {
     "name": "stdout",
     "output_type": "stream",
     "text": [
      "Creating data:\n",
      "0\n",
      "500\n"
     ]
    }
   ],
   "source": [
    "n_train = 1000\n",
    "X_train0, Y_train0 = generate_dataset_denoising(n_train, noise=100)"
   ]
  },
  {
   "cell_type": "code",
   "execution_count": 3,
   "metadata": {
    "collapsed": true
   },
   "outputs": [
    {
     "name": "stdout",
     "output_type": "stream",
     "text": [
      "Creating data:\n",
      "0\n"
     ]
    }
   ],
   "source": [
    "n_test = 300\n",
    "X_test0, Y_test0 = generate_dataset_denoising(n_test, noise=100)"
   ]
  },
  {
   "cell_type": "markdown",
   "metadata": {},
   "source": [
    "In this section, we generate pairs of images, where one image has noise with random amplitude, and the second image has the same content but without the noise. We aim to train a hourglass network to predict a noise-free image given a noisy\n",
    "image as input. Here is an example of a pair of images of the train set :"
   ]
  },
  {
   "cell_type": "code",
   "execution_count": 4,
   "metadata": {
    "scrolled": true
   },
   "outputs": [
    {
     "data": {
      "text/plain": [
       "<matplotlib.image.AxesImage at 0x7f3d3bf83f60>"
      ]
     },
     "execution_count": 4,
     "metadata": {},
     "output_type": "execute_result"
    },
    {
     "data": {
      "image/png": "[encoded data removed]",
      "text/plain": [
       "<Figure size 432x288 with 2 Axes>"
      ]
     },
     "metadata": {
      "needs_background": "light"
     },
     "output_type": "display_data"
    }
   ],
   "source": [
    "IMAGE_SIZE = 72\n",
    "im1 = X_train0[0]\n",
    "im2 = Y_train0[0]\n",
    "f, (ax1, ax2) = plt.subplots(1, 2, sharey=True)\n",
    "ax1.imshow(im1.reshape(IMAGE_SIZE,IMAGE_SIZE), cmap='gray')\n",
    "ax2.imshow(im2.reshape(IMAGE_SIZE,IMAGE_SIZE), cmap='gray')\n"
   ]
  },
  {
   "cell_type": "markdown",
   "metadata": {},
   "source": [
    "Here we implement a hourglass network for denoising :"
   ]
  },
  {
   "cell_type": "code",
   "execution_count": 5,
   "metadata": {
    "scrolled": true
   },
   "outputs": [
    {
     "name": "stdout",
     "output_type": "stream",
     "text": [
      "Epoch 1/50\n",
      "1000/1000 [==============================] - 57s 57ms/step - loss: 0.1262\n",
      "Epoch 2/50\n",
      "1000/1000 [==============================] - 52s 52ms/step - loss: 0.0627\n",
      "Epoch 3/50\n",
      "1000/1000 [==============================] - 52s 52ms/step - loss: 0.0391\n",
      "Epoch 4/50\n",
      "1000/1000 [==============================] - 52s 52ms/step - loss: 0.0274\n",
      "Epoch 5/50\n",
      "1000/1000 [==============================] - 54s 54ms/step - loss: 0.0209\n",
      "Epoch 6/50\n",
      "1000/1000 [==============================] - 52s 52ms/step - loss: 0.0202\n",
      "Epoch 7/50\n",
      "1000/1000 [==============================] - 51s 51ms/step - loss: 0.0162\n",
      "Epoch 8/50\n",
      "1000/1000 [==============================] - 52s 52ms/step - loss: 0.0172\n",
      "Epoch 9/50\n",
      "1000/1000 [==============================] - 52s 52ms/step - loss: 0.0145\n",
      "Epoch 10/50\n",
      "1000/1000 [==============================] - 52s 52ms/step - loss: 0.0136\n",
      "Epoch 11/50\n",
      "1000/1000 [==============================] - 52s 52ms/step - loss: 0.0131\n",
      "Epoch 12/50\n",
      "1000/1000 [==============================] - 51s 51ms/step - loss: 0.0106\n",
      "Epoch 13/50\n",
      "1000/1000 [==============================] - 55s 55ms/step - loss: 0.0099\n",
      "Epoch 14/50\n",
      "1000/1000 [==============================] - 54s 54ms/step - loss: 0.0100\n",
      "Epoch 15/50\n",
      "1000/1000 [==============================] - 52s 52ms/step - loss: 0.0087\n",
      "Epoch 16/50\n",
      "1000/1000 [==============================] - 52s 52ms/step - loss: 0.0092\n",
      "Epoch 17/50\n",
      "1000/1000 [==============================] - 51s 51ms/step - loss: 0.0083\n",
      "Epoch 18/50\n",
      "1000/1000 [==============================] - 52s 52ms/step - loss: 0.0079\n",
      "Epoch 19/50\n",
      "1000/1000 [==============================] - 51s 51ms/step - loss: 0.0072\n",
      "Epoch 20/50\n",
      "1000/1000 [==============================] - 52s 52ms/step - loss: 0.0093\n",
      "Epoch 21/50\n",
      "1000/1000 [==============================] - 51s 51ms/step - loss: 0.0078\n",
      "Epoch 22/50\n",
      "1000/1000 [==============================] - 52s 52ms/step - loss: 0.0072\n",
      "Epoch 23/50\n",
      "1000/1000 [==============================] - 51s 51ms/step - loss: 0.0058\n",
      "Epoch 24/50\n",
      "1000/1000 [==============================] - 51s 51ms/step - loss: 0.0056\n",
      "Epoch 25/50\n",
      "1000/1000 [==============================] - 49s 49ms/step - loss: 0.0047\n",
      "Epoch 26/50\n",
      "1000/1000 [==============================] - 51s 51ms/step - loss: 0.0045\n",
      "Epoch 27/50\n",
      "1000/1000 [==============================] - 53s 53ms/step - loss: 0.0043\n",
      "Epoch 28/50\n",
      "1000/1000 [==============================] - 52s 52ms/step - loss: 0.0031\n",
      "Epoch 29/50\n",
      "1000/1000 [==============================] - 53s 53ms/step - loss: 0.0028\n",
      "Epoch 30/50\n",
      "1000/1000 [==============================] - 52s 52ms/step - loss: 0.0026\n",
      "Epoch 31/50\n",
      "1000/1000 [==============================] - 53s 53ms/step - loss: 0.0027\n",
      "Epoch 32/50\n",
      "1000/1000 [==============================] - 52s 52ms/step - loss: 0.0025\n",
      "Epoch 33/50\n",
      "1000/1000 [==============================] - 51s 51ms/step - loss: 0.0022\n",
      "Epoch 34/50\n",
      "1000/1000 [==============================] - 56s 56ms/step - loss: 0.0023\n",
      "Epoch 35/50\n",
      "1000/1000 [==============================] - 53s 53ms/step - loss: 0.0021\n",
      "Epoch 36/50\n",
      "1000/1000 [==============================] - 52s 52ms/step - loss: 0.0021\n",
      "Epoch 37/50\n",
      "1000/1000 [==============================] - 52s 52ms/step - loss: 0.0019\n",
      "Epoch 38/50\n",
      "1000/1000 [==============================] - 52s 52ms/step - loss: 0.0019\n",
      "Epoch 39/50\n",
      "1000/1000 [==============================] - 53s 53ms/step - loss: 0.0017\n",
      "Epoch 40/50\n",
      "1000/1000 [==============================] - 52s 52ms/step - loss: 0.0018\n",
      "Epoch 41/50\n",
      "1000/1000 [==============================] - 50s 50ms/step - loss: 0.0017\n",
      "Epoch 42/50\n",
      "1000/1000 [==============================] - 50s 50ms/step - loss: 0.0021\n",
      "Epoch 43/50\n",
      "1000/1000 [==============================] - 50s 50ms/step - loss: 0.0013\n",
      "Epoch 44/50\n",
      "1000/1000 [==============================] - 50s 50ms/step - loss: 0.0019\n",
      "Epoch 45/50\n",
      "1000/1000 [==============================] - 50s 50ms/step - loss: 0.0025\n",
      "Epoch 46/50\n",
      "1000/1000 [==============================] - 49s 49ms/step - loss: 0.0045\n",
      "Epoch 47/50\n",
      "1000/1000 [==============================] - 50s 50ms/step - loss: 0.0021\n",
      "Epoch 48/50\n",
      "1000/1000 [==============================] - 50s 50ms/step - loss: 0.0016\n",
      "Epoch 49/50\n",
      "1000/1000 [==============================] - 49s 49ms/step - loss: 0.0012\n",
      "Epoch 50/50\n",
      "1000/1000 [==============================] - 50s 50ms/step - loss: 0.0012\n"
     ]
    },
    {
     "data": {
      "text/plain": [
       "<keras.callbacks.History at 0x7f3d3bf27c88>"
      ]
     },
     "execution_count": 5,
     "metadata": {},
     "output_type": "execute_result"
    }
   ],
   "source": [
    "from keras.models import Sequential\n",
    "from keras.layers import Dense, Activation, Conv2D, UpSampling2D\n",
    "from keras.layers.pooling import MaxPooling2D\n",
    "from keras.optimizers import Adam\n",
    "from keras.utils import to_categorical\n",
    "\n",
    "model = Sequential()\n",
    "\n",
    "\n",
    "X_train = X_train0.reshape(n_train,72,72,1)/255\n",
    "Y_train = Y_train0.reshape(n_train,72,72,1)/255\n",
    "\n",
    "\n",
    "conv1a = Conv2D(32,  kernel_size=3, input_shape=(72,72,1), activation = 'relu')\n",
    "pool1 = MaxPooling2D(pool_size=(2, 2))\n",
    "\n",
    "conv2a = Conv2D(64, kernel_size=3, activation = 'relu')\n",
    "pool2 = MaxPooling2D(pool_size=(2, 2))\n",
    "\n",
    "conv3a = Conv2D(128, kernel_size=3, activation = 'relu')\n",
    "pool3 = MaxPooling2D(pool_size=(2, 2))\n",
    "\n",
    "up4 = UpSampling2D(size = (2,2))\n",
    "conv4a = Conv2D(128, kernel_size=3, activation = 'relu')\n",
    "\n",
    "up5 = UpSampling2D(size = (2,2))\n",
    "up_conv5 = Conv2D(128, kernel_size=3, activation = 'relu')\n",
    "conv5b = Conv2D(64, kernel_size=3, activation = 'relu')\n",
    "\n",
    "up6 = UpSampling2D(size = (2,2))\n",
    "conv6 = Conv2D(64, kernel_size=3, activation = 'relu')\n",
    "\n",
    "up7 = UpSampling2D(size = (2,2))\n",
    "up_conv7 = Conv2D(64, kernel_size=3, activation = 'relu')\n",
    "conv7b = Conv2D(1, kernel_size=3, activation = 'sigmoid')\n",
    "\n",
    "\n",
    "model.add(conv1a)\n",
    "model.add(pool1)\n",
    "\n",
    "model.add(conv2a)\n",
    "model.add(pool2)\n",
    "\n",
    "model.add(conv3a)\n",
    "model.add(pool3)\n",
    "\n",
    "model.add(up4)\n",
    "model.add(conv4a)\n",
    "\n",
    "model.add(up5)\n",
    "model.add(up_conv5)\n",
    "model.add(conv5b)\n",
    "\n",
    "model.add(up6)\n",
    "model.add(conv6)\n",
    "\n",
    "model.add(up7)\n",
    "model.add(up_conv7)\n",
    "model.add(conv7b)\n",
    "\n",
    "\n",
    "\n",
    "adam = Adam(lr=0.0005, beta_1=0.9, beta_2=0.999, epsilon=None, decay=0.0, amsgrad=False)\n",
    "model.compile(optimizer = 'adam',loss = 'mean_squared_error')\n",
    "model.fit(X_train, Y_train, epochs=50, batch_size=32)"
   ]
  },
  {
   "cell_type": "code",
   "execution_count": 13,
   "metadata": {},
   "outputs": [
    {
     "name": "stdout",
     "output_type": "stream",
     "text": [
      "300/300 [==============================] - 5s 18ms/step\n"
     ]
    },
    {
     "data": {
      "text/plain": [
       "0.0060610119858756665"
      ]
     },
     "execution_count": 13,
     "metadata": {},
     "output_type": "execute_result"
    }
   ],
   "source": [
    "IMAGE_SIZE = 72\n",
    "\n",
    "X_test = X_test0.reshape(n_test,72,72,1)/255\n",
    "Y_test = Y_test0.reshape(n_test,72,72,1)/255\n",
    "model.evaluate(X_test, Y_test)\n"
   ]
  },
  {
   "cell_type": "markdown",
   "metadata": {},
   "source": [
    "Finally, this networks allows us to have a nice image denoising on the test data set as you can see bellow on a few examples : "
   ]
  },
  {
   "cell_type": "code",
   "execution_count": 14,
   "metadata": {},
   "outputs": [
    {
     "data": {
      "text/plain": [
       "<matplotlib.image.AxesImage at 0x7f3d25b0e358>"
      ]
     },
     "execution_count": 14,
     "metadata": {},
     "output_type": "execute_result"
    },
    {
     "data": {
      "image/png": "[encoded data removed]",
      "text/plain": [
       "<Figure size 432x288 with 6 Axes>"
      ]
     },
     "metadata": {
      "needs_background": "light"
     },
     "output_type": "display_data"
    }
   ],
   "source": [
    "predict = model.predict(X_test)\n",
    "\n",
    "im1 = X_test[0] * 255\n",
    "im2 = predict[0] * 255\n",
    "\n",
    "im3 = X_test[1] * 255\n",
    "im4 = predict[1] * 255\n",
    "\n",
    "im5 = X_test[2] * 255\n",
    "im6 = predict[2] * 255\n",
    "\n",
    "f, ((ax1, ax2), (ax3, ax4), (ax5, ax6)) = plt.subplots(3, 2, sharey=True)\n",
    "ax1.imshow(im1.reshape(IMAGE_SIZE,IMAGE_SIZE), cmap='gray')\n",
    "ax2.imshow(im2.reshape(IMAGE_SIZE,IMAGE_SIZE), cmap='gray')\n",
    "ax3.imshow(im3.reshape(IMAGE_SIZE,IMAGE_SIZE), cmap='gray')\n",
    "ax4.imshow(im4.reshape(IMAGE_SIZE,IMAGE_SIZE), cmap='gray')\n",
    "ax5.imshow(im5.reshape(IMAGE_SIZE,IMAGE_SIZE), cmap='gray')\n",
    "ax6.imshow(im6.reshape(IMAGE_SIZE,IMAGE_SIZE), cmap='gray')"
   ]
  }
 ],
 "metadata": {
  "kernelspec": {
   "display_name": "Python 3",
   "language": "python",
   "name": "python3"
  },
  "language_info": {
   "codemirror_mode": {
    "name": "ipython",
    "version": 3
   },
   "file_extension": ".py",
   "mimetype": "text/x-python",
   "name": "python",
   "nbconvert_exporter": "python",
   "pygments_lexer": "ipython3",
   "version": "3.6.6"
  }
 },
 "nbformat": 4,
 "nbformat_minor": 2
}
